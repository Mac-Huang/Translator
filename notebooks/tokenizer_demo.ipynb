{
 "cells": [
  {
   "cell_type": "code",
   "execution_count": 3,
   "metadata": {},
   "outputs": [
    {
     "name": "stdout",
     "output_type": "stream",
     "text": [
      "English Tokens: ['i', 'couldn', \"'\", 't', 'breath']\n",
      "Token IDs: tensor([[  101,   151, 83643,   112,   162, 72557,   102]])\n",
      "Chinese Tokens: ['你', '好', '吗', '？']\n",
      "Token IDs: tensor([[  101,  1856,  3019,  2442, 10051,   102]])\n"
     ]
    }
   ],
   "source": [
    "from transformers import BertTokenizer\n",
    "\n",
    "# Load multilingual BERT tokenizer\n",
    "tokenizer = BertTokenizer.from_pretrained(\"../bert-base/bert-base-multilingual-cased\")\n",
    "\n",
    "# Example: Tokenize an English sentence\n",
    "sentence_en = \"I couldn't breath\"\n",
    "tokens_en = tokenizer.tokenize(sentence_en)\n",
    "token_ids_en = tokenizer(sentence_en, return_tensors=\"pt\")\n",
    "\n",
    "print(\"English Tokens:\", tokens_en)\n",
    "print(\"Token IDs:\", token_ids_en[\"input_ids\"])\n",
    "\n",
    "# Example: Tokenize a Chinese sentence\n",
    "sentence_zh = \"你好吗？\"\n",
    "tokens_zh = tokenizer.tokenize(sentence_zh)\n",
    "token_ids_zh = tokenizer(sentence_zh, return_tensors=\"pt\")\n",
    "\n",
    "print(\"Chinese Tokens:\", tokens_zh)\n",
    "print(\"Token IDs:\", token_ids_zh[\"input_ids\"])\n"
   ]
  }
 ],
 "metadata": {
  "kernelspec": {
   "display_name": "nlp",
   "language": "python",
   "name": "python3"
  },
  "language_info": {
   "codemirror_mode": {
    "name": "ipython",
    "version": 3
   },
   "file_extension": ".py",
   "mimetype": "text/x-python",
   "name": "python",
   "nbconvert_exporter": "python",
   "pygments_lexer": "ipython3",
   "version": "3.8.20"
  }
 },
 "nbformat": 4,
 "nbformat_minor": 2
}
